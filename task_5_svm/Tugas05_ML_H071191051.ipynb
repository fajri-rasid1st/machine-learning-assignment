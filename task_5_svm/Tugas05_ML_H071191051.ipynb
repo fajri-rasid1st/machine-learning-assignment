{
  "nbformat": 4,
  "nbformat_minor": 0,
  "metadata": {
    "colab": {
      "name": "Tugas05-ML-H071191051-MUHAMMAD_FAJRI_RASID.ipynb",
      "provenance": [],
      "collapsed_sections": [
        "9Su0uu0_8Yau",
        "Z2HMelgQ-R7q",
        "WWEo1buO__cG",
        "w5PlWY8NHCqc"
      ],
      "toc_visible": true
    },
    "kernelspec": {
      "name": "python3",
      "display_name": "Python 3"
    },
    "language_info": {
      "name": "python"
    }
  },
  "cells": [
    {
      "cell_type": "markdown",
      "metadata": {
        "id": "sxDaX-R77jzj"
      },
      "source": [
        "# _**Tugas 5 - Machine Learning (Support Vector Machine)**_\n",
        "#### _Nama : Muhammad Fajri Rasid_\n",
        "#### _NIM : H071191051_"
      ]
    },
    {
      "cell_type": "markdown",
      "metadata": {
        "id": "A0rK-Z3V77FX"
      },
      "source": [
        "### __*Dataset*__\n",
        "**Berikut adalah dataset yang digunakan:\n",
        "[Nutrition Facts for McDonald's Menu](https://www.kaggle.com/mcdonalds/nutrition-facts)**\n",
        "\n",
        "Dataset ini menyediakan analisis nutrisi dari setiap item menu di menu McDonald's AS, termasuk sarapan, burger daging sapi, sandwich ayam dan ikan, kentang goreng, salad, soda, kopi dan teh, milkshake, dan makanan penutup."
      ]
    },
    {
      "cell_type": "markdown",
      "metadata": {
        "id": "9Su0uu0_8Yau"
      },
      "source": [
        "### __*Import Package Yang Akan Digunakan*__"
      ]
    },
    {
      "cell_type": "code",
      "metadata": {
        "id": "EK00zYou8fjv"
      },
      "source": [
        "import pandas as pd\n",
        "from sklearn import svm\n",
        "from sklearn.model_selection import train_test_split\n",
        "from sklearn.metrics import classification_report, confusion_matrix, fbeta_score, cohen_kappa_score, roc_auc_score"
      ],
      "execution_count": 1,
      "outputs": []
    },
    {
      "cell_type": "markdown",
      "metadata": {
        "id": "Z2HMelgQ-R7q"
      },
      "source": [
        "### __*1. Preprocessing*__"
      ]
    },
    {
      "cell_type": "code",
      "metadata": {
        "colab": {
          "base_uri": "https://localhost:8080/"
        },
        "id": "y9NZowKb8cXH",
        "outputId": "dce25ddc-20f2-45f1-bc3a-cd321a66a9bf"
      },
      "source": [
        "from google.colab import drive\n",
        "drive.mount('/content/drive')"
      ],
      "execution_count": 2,
      "outputs": [
        {
          "output_type": "stream",
          "name": "stdout",
          "text": [
            "Drive already mounted at /content/drive; to attempt to forcibly remount, call drive.mount(\"/content/drive\", force_remount=True).\n"
          ]
        }
      ]
    },
    {
      "cell_type": "code",
      "metadata": {
        "colab": {
          "base_uri": "https://localhost:8080/",
          "height": 452
        },
        "id": "BTeXmzcV53Zb",
        "outputId": "ca781ca1-69c3-4a35-989a-ce32c8dfc95a"
      },
      "source": [
        "# import dataset dari google drive\n",
        "df = pd.read_csv(\"/content/drive/MyDrive/dataset/menu.csv\")\n",
        "df.head()"
      ],
      "execution_count": 3,
      "outputs": [
        {
          "output_type": "execute_result",
          "data": {
            "text/html": [
              "<div>\n",
              "<style scoped>\n",
              "    .dataframe tbody tr th:only-of-type {\n",
              "        vertical-align: middle;\n",
              "    }\n",
              "\n",
              "    .dataframe tbody tr th {\n",
              "        vertical-align: top;\n",
              "    }\n",
              "\n",
              "    .dataframe thead th {\n",
              "        text-align: right;\n",
              "    }\n",
              "</style>\n",
              "<table border=\"1\" class=\"dataframe\">\n",
              "  <thead>\n",
              "    <tr style=\"text-align: right;\">\n",
              "      <th></th>\n",
              "      <th>Category</th>\n",
              "      <th>Item</th>\n",
              "      <th>Serving Size</th>\n",
              "      <th>Calories</th>\n",
              "      <th>Calories from Fat</th>\n",
              "      <th>Total Fat</th>\n",
              "      <th>Total Fat (% Daily Value)</th>\n",
              "      <th>Saturated Fat</th>\n",
              "      <th>Saturated Fat (% Daily Value)</th>\n",
              "      <th>Trans Fat</th>\n",
              "      <th>Cholesterol</th>\n",
              "      <th>Cholesterol (% Daily Value)</th>\n",
              "      <th>Sodium</th>\n",
              "      <th>Sodium (% Daily Value)</th>\n",
              "      <th>Carbohydrates</th>\n",
              "      <th>Carbohydrates (% Daily Value)</th>\n",
              "      <th>Dietary Fiber</th>\n",
              "      <th>Dietary Fiber (% Daily Value)</th>\n",
              "      <th>Sugars</th>\n",
              "      <th>Protein</th>\n",
              "      <th>Vitamin A (% Daily Value)</th>\n",
              "      <th>Vitamin C (% Daily Value)</th>\n",
              "      <th>Calcium (% Daily Value)</th>\n",
              "      <th>Iron (% Daily Value)</th>\n",
              "    </tr>\n",
              "  </thead>\n",
              "  <tbody>\n",
              "    <tr>\n",
              "      <th>0</th>\n",
              "      <td>Breakfast</td>\n",
              "      <td>Egg McMuffin</td>\n",
              "      <td>4.8 oz (136 g)</td>\n",
              "      <td>300</td>\n",
              "      <td>120</td>\n",
              "      <td>13.0</td>\n",
              "      <td>20</td>\n",
              "      <td>5.0</td>\n",
              "      <td>25</td>\n",
              "      <td>0.0</td>\n",
              "      <td>260</td>\n",
              "      <td>87</td>\n",
              "      <td>750</td>\n",
              "      <td>31</td>\n",
              "      <td>31</td>\n",
              "      <td>10</td>\n",
              "      <td>4</td>\n",
              "      <td>17</td>\n",
              "      <td>3</td>\n",
              "      <td>17</td>\n",
              "      <td>10</td>\n",
              "      <td>0</td>\n",
              "      <td>25</td>\n",
              "      <td>15</td>\n",
              "    </tr>\n",
              "    <tr>\n",
              "      <th>1</th>\n",
              "      <td>Breakfast</td>\n",
              "      <td>Egg White Delight</td>\n",
              "      <td>4.8 oz (135 g)</td>\n",
              "      <td>250</td>\n",
              "      <td>70</td>\n",
              "      <td>8.0</td>\n",
              "      <td>12</td>\n",
              "      <td>3.0</td>\n",
              "      <td>15</td>\n",
              "      <td>0.0</td>\n",
              "      <td>25</td>\n",
              "      <td>8</td>\n",
              "      <td>770</td>\n",
              "      <td>32</td>\n",
              "      <td>30</td>\n",
              "      <td>10</td>\n",
              "      <td>4</td>\n",
              "      <td>17</td>\n",
              "      <td>3</td>\n",
              "      <td>18</td>\n",
              "      <td>6</td>\n",
              "      <td>0</td>\n",
              "      <td>25</td>\n",
              "      <td>8</td>\n",
              "    </tr>\n",
              "    <tr>\n",
              "      <th>2</th>\n",
              "      <td>Breakfast</td>\n",
              "      <td>Sausage McMuffin</td>\n",
              "      <td>3.9 oz (111 g)</td>\n",
              "      <td>370</td>\n",
              "      <td>200</td>\n",
              "      <td>23.0</td>\n",
              "      <td>35</td>\n",
              "      <td>8.0</td>\n",
              "      <td>42</td>\n",
              "      <td>0.0</td>\n",
              "      <td>45</td>\n",
              "      <td>15</td>\n",
              "      <td>780</td>\n",
              "      <td>33</td>\n",
              "      <td>29</td>\n",
              "      <td>10</td>\n",
              "      <td>4</td>\n",
              "      <td>17</td>\n",
              "      <td>2</td>\n",
              "      <td>14</td>\n",
              "      <td>8</td>\n",
              "      <td>0</td>\n",
              "      <td>25</td>\n",
              "      <td>10</td>\n",
              "    </tr>\n",
              "    <tr>\n",
              "      <th>3</th>\n",
              "      <td>Breakfast</td>\n",
              "      <td>Sausage McMuffin with Egg</td>\n",
              "      <td>5.7 oz (161 g)</td>\n",
              "      <td>450</td>\n",
              "      <td>250</td>\n",
              "      <td>28.0</td>\n",
              "      <td>43</td>\n",
              "      <td>10.0</td>\n",
              "      <td>52</td>\n",
              "      <td>0.0</td>\n",
              "      <td>285</td>\n",
              "      <td>95</td>\n",
              "      <td>860</td>\n",
              "      <td>36</td>\n",
              "      <td>30</td>\n",
              "      <td>10</td>\n",
              "      <td>4</td>\n",
              "      <td>17</td>\n",
              "      <td>2</td>\n",
              "      <td>21</td>\n",
              "      <td>15</td>\n",
              "      <td>0</td>\n",
              "      <td>30</td>\n",
              "      <td>15</td>\n",
              "    </tr>\n",
              "    <tr>\n",
              "      <th>4</th>\n",
              "      <td>Breakfast</td>\n",
              "      <td>Sausage McMuffin with Egg Whites</td>\n",
              "      <td>5.7 oz (161 g)</td>\n",
              "      <td>400</td>\n",
              "      <td>210</td>\n",
              "      <td>23.0</td>\n",
              "      <td>35</td>\n",
              "      <td>8.0</td>\n",
              "      <td>42</td>\n",
              "      <td>0.0</td>\n",
              "      <td>50</td>\n",
              "      <td>16</td>\n",
              "      <td>880</td>\n",
              "      <td>37</td>\n",
              "      <td>30</td>\n",
              "      <td>10</td>\n",
              "      <td>4</td>\n",
              "      <td>17</td>\n",
              "      <td>2</td>\n",
              "      <td>21</td>\n",
              "      <td>6</td>\n",
              "      <td>0</td>\n",
              "      <td>25</td>\n",
              "      <td>10</td>\n",
              "    </tr>\n",
              "  </tbody>\n",
              "</table>\n",
              "</div>"
            ],
            "text/plain": [
              "    Category  ... Iron (% Daily Value)\n",
              "0  Breakfast  ...                   15\n",
              "1  Breakfast  ...                    8\n",
              "2  Breakfast  ...                   10\n",
              "3  Breakfast  ...                   15\n",
              "4  Breakfast  ...                   10\n",
              "\n",
              "[5 rows x 24 columns]"
            ]
          },
          "metadata": {},
          "execution_count": 3
        }
      ]
    },
    {
      "cell_type": "code",
      "metadata": {
        "colab": {
          "base_uri": "https://localhost:8080/"
        },
        "id": "WJngAHn-_FjY",
        "outputId": "cc3cacf0-9dc4-4640-fbde-140dbfa7bceb"
      },
      "source": [
        "df.shape"
      ],
      "execution_count": 4,
      "outputs": [
        {
          "output_type": "execute_result",
          "data": {
            "text/plain": [
              "(260, 24)"
            ]
          },
          "metadata": {},
          "execution_count": 4
        }
      ]
    },
    {
      "cell_type": "code",
      "metadata": {
        "colab": {
          "base_uri": "https://localhost:8080/"
        },
        "id": "IMWWG75E-qQn",
        "outputId": "ab6b3e6a-fc77-4fea-ed38-db2d28d396d9"
      },
      "source": [
        "df = df.loc[~df['Category'].isin(['Salads', 'Desserts','Snacks & Sides', 'Beef & Pork', 'Beverages', 'Chicken & Fish'])]\n",
        "\n",
        "df.shape"
      ],
      "execution_count": 5,
      "outputs": [
        {
          "output_type": "execute_result",
          "data": {
            "text/plain": [
              "(165, 24)"
            ]
          },
          "metadata": {},
          "execution_count": 5
        }
      ]
    },
    {
      "cell_type": "code",
      "metadata": {
        "colab": {
          "base_uri": "https://localhost:8080/"
        },
        "id": "f-btSnHu_OeI",
        "outputId": "fad87692-58eb-41a1-fca9-0794f6c8d787"
      },
      "source": [
        "df[\"Category\"].value_counts()"
      ],
      "execution_count": 6,
      "outputs": [
        {
          "output_type": "execute_result",
          "data": {
            "text/plain": [
              "Coffee & Tea          95\n",
              "Breakfast             42\n",
              "Smoothies & Shakes    28\n",
              "Name: Category, dtype: int64"
            ]
          },
          "metadata": {},
          "execution_count": 6
        }
      ]
    },
    {
      "cell_type": "code",
      "metadata": {
        "id": "XXyR7qEJQYLo"
      },
      "source": [
        "# labels_encode = {\"Category\": {\"Coffee & Tea\": 1.0, \"Breakfast\": 2.0, \"Smoothies & Shakes\" : 3.0}}\n",
        "\n",
        "# df.replace(labels_encode, inplace=True)"
      ],
      "execution_count": 7,
      "outputs": []
    },
    {
      "cell_type": "code",
      "metadata": {
        "colab": {
          "base_uri": "https://localhost:8080/"
        },
        "id": "FjXaYR8A_hnf",
        "outputId": "84109c84-da00-460c-93a4-59121c100d8b"
      },
      "source": [
        "df.isnull().sum()"
      ],
      "execution_count": 8,
      "outputs": [
        {
          "output_type": "execute_result",
          "data": {
            "text/plain": [
              "Category                         0\n",
              "Item                             0\n",
              "Serving Size                     0\n",
              "Calories                         0\n",
              "Calories from Fat                0\n",
              "Total Fat                        0\n",
              "Total Fat (% Daily Value)        0\n",
              "Saturated Fat                    0\n",
              "Saturated Fat (% Daily Value)    0\n",
              "Trans Fat                        0\n",
              "Cholesterol                      0\n",
              "Cholesterol (% Daily Value)      0\n",
              "Sodium                           0\n",
              "Sodium (% Daily Value)           0\n",
              "Carbohydrates                    0\n",
              "Carbohydrates (% Daily Value)    0\n",
              "Dietary Fiber                    0\n",
              "Dietary Fiber (% Daily Value)    0\n",
              "Sugars                           0\n",
              "Protein                          0\n",
              "Vitamin A (% Daily Value)        0\n",
              "Vitamin C (% Daily Value)        0\n",
              "Calcium (% Daily Value)          0\n",
              "Iron (% Daily Value)             0\n",
              "dtype: int64"
            ]
          },
          "metadata": {},
          "execution_count": 8
        }
      ]
    },
    {
      "cell_type": "markdown",
      "metadata": {
        "id": "WWEo1buO__cG"
      },
      "source": [
        "### __*2. Model SVM*__"
      ]
    },
    {
      "cell_type": "code",
      "metadata": {
        "id": "zzXNX4bo_qCd"
      },
      "source": [
        "X = df[[\"Calories\", \"Cholesterol\", \"Carbohydrates\", \"Protein\"]]\n",
        "y = df[\"Category\"]"
      ],
      "execution_count": 9,
      "outputs": []
    },
    {
      "cell_type": "code",
      "metadata": {
        "id": "soKdWtgBDPp5"
      },
      "source": [
        "X_train, X_test, y_train, y_test = train_test_split(X, y, test_size=0.33, stratify=y)"
      ],
      "execution_count": 10,
      "outputs": []
    },
    {
      "cell_type": "code",
      "metadata": {
        "colab": {
          "base_uri": "https://localhost:8080/"
        },
        "id": "9ku7IWFVD61T",
        "outputId": "60fa8e33-5415-472d-a442-a355acb90cd9"
      },
      "source": [
        "len(X_test), len(X_train), len(y_test), len(y_train)"
      ],
      "execution_count": 11,
      "outputs": [
        {
          "output_type": "execute_result",
          "data": {
            "text/plain": [
              "(55, 110, 55, 110)"
            ]
          },
          "metadata": {},
          "execution_count": 11
        }
      ]
    },
    {
      "cell_type": "code",
      "metadata": {
        "id": "mynHSyArE9d_"
      },
      "source": [
        "list_kernels = [\"linear\", \"rbf\", \"poly\", \"sigmoid\"]\n",
        "list_svm_models = []\n",
        "\n",
        "for kernel in list_kernels:\n",
        "    temp_model = svm.SVC(kernel=kernel)\n",
        "    temp_model.fit(X_train, y_train)\n",
        "    list_svm_models.append(temp_model)"
      ],
      "execution_count": 12,
      "outputs": []
    },
    {
      "cell_type": "code",
      "metadata": {
        "colab": {
          "base_uri": "https://localhost:8080/"
        },
        "id": "fn0_UPOfFjza",
        "outputId": "7603f0a1-6909-4f44-8ce4-0d04f96329b0"
      },
      "source": [
        "for i in range(len(list_svm_models)):\n",
        "    print(f\"{list_kernels[i]}\\n{list_svm_models[i]}\")"
      ],
      "execution_count": 13,
      "outputs": [
        {
          "output_type": "stream",
          "name": "stdout",
          "text": [
            "linear\n",
            "SVC(C=1.0, break_ties=False, cache_size=200, class_weight=None, coef0=0.0,\n",
            "    decision_function_shape='ovr', degree=3, gamma='scale', kernel='linear',\n",
            "    max_iter=-1, probability=False, random_state=None, shrinking=True,\n",
            "    tol=0.001, verbose=False)\n",
            "rbf\n",
            "SVC(C=1.0, break_ties=False, cache_size=200, class_weight=None, coef0=0.0,\n",
            "    decision_function_shape='ovr', degree=3, gamma='scale', kernel='rbf',\n",
            "    max_iter=-1, probability=False, random_state=None, shrinking=True,\n",
            "    tol=0.001, verbose=False)\n",
            "poly\n",
            "SVC(C=1.0, break_ties=False, cache_size=200, class_weight=None, coef0=0.0,\n",
            "    decision_function_shape='ovr', degree=3, gamma='scale', kernel='poly',\n",
            "    max_iter=-1, probability=False, random_state=None, shrinking=True,\n",
            "    tol=0.001, verbose=False)\n",
            "sigmoid\n",
            "SVC(C=1.0, break_ties=False, cache_size=200, class_weight=None, coef0=0.0,\n",
            "    decision_function_shape='ovr', degree=3, gamma='scale', kernel='sigmoid',\n",
            "    max_iter=-1, probability=False, random_state=None, shrinking=True,\n",
            "    tol=0.001, verbose=False)\n"
          ]
        }
      ]
    },
    {
      "cell_type": "code",
      "metadata": {
        "colab": {
          "base_uri": "https://localhost:8080/"
        },
        "id": "DXZMfyXvEUyY",
        "outputId": "9efeb786-0dce-40cb-fd4b-418f2b475fe6"
      },
      "source": [
        "# membangun model\n",
        "model_svm = svm.SVC(kernel=\"linear\")\n",
        "# melatih model dengan data train\n",
        "model_svm.fit(X_train, y_train)\n",
        "model_svm"
      ],
      "execution_count": 14,
      "outputs": [
        {
          "output_type": "execute_result",
          "data": {
            "text/plain": [
              "SVC(C=1.0, break_ties=False, cache_size=200, class_weight=None, coef0=0.0,\n",
              "    decision_function_shape='ovr', degree=3, gamma='scale', kernel='linear',\n",
              "    max_iter=-1, probability=False, random_state=None, shrinking=True,\n",
              "    tol=0.001, verbose=False)"
            ]
          },
          "metadata": {},
          "execution_count": 14
        }
      ]
    },
    {
      "cell_type": "markdown",
      "metadata": {
        "id": "w5PlWY8NHCqc"
      },
      "source": [
        "### __*3. Predict SVM*__"
      ]
    },
    {
      "cell_type": "code",
      "metadata": {
        "colab": {
          "base_uri": "https://localhost:8080/"
        },
        "id": "1Dpo28ZkGzZY",
        "outputId": "34d502e4-8d02-4326-bce9-a3fa3a54ed9e"
      },
      "source": [
        "# buat variable hasil prediksi pada data test (data uji)\n",
        "predict_svm = model_svm.predict(X_test)\n",
        "predict_svm"
      ],
      "execution_count": 15,
      "outputs": [
        {
          "output_type": "execute_result",
          "data": {
            "text/plain": [
              "array(['Coffee & Tea', 'Coffee & Tea', 'Coffee & Tea', 'Coffee & Tea',\n",
              "       'Breakfast', 'Breakfast', 'Breakfast', 'Coffee & Tea', 'Breakfast',\n",
              "       'Smoothies & Shakes', 'Coffee & Tea', 'Smoothies & Shakes',\n",
              "       'Coffee & Tea', 'Coffee & Tea', 'Coffee & Tea',\n",
              "       'Smoothies & Shakes', 'Smoothies & Shakes', 'Breakfast',\n",
              "       'Coffee & Tea', 'Breakfast', 'Coffee & Tea', 'Smoothies & Shakes',\n",
              "       'Smoothies & Shakes', 'Smoothies & Shakes', 'Smoothies & Shakes',\n",
              "       'Coffee & Tea', 'Coffee & Tea', 'Coffee & Tea', 'Coffee & Tea',\n",
              "       'Smoothies & Shakes', 'Coffee & Tea', 'Coffee & Tea',\n",
              "       'Coffee & Tea', 'Coffee & Tea', 'Smoothies & Shakes', 'Breakfast',\n",
              "       'Coffee & Tea', 'Smoothies & Shakes', 'Coffee & Tea',\n",
              "       'Coffee & Tea', 'Smoothies & Shakes', 'Breakfast', 'Coffee & Tea',\n",
              "       'Coffee & Tea', 'Coffee & Tea', 'Breakfast', 'Coffee & Tea',\n",
              "       'Smoothies & Shakes', 'Breakfast', 'Coffee & Tea', 'Breakfast',\n",
              "       'Coffee & Tea', 'Coffee & Tea', 'Breakfast', 'Coffee & Tea'],\n",
              "      dtype=object)"
            ]
          },
          "metadata": {},
          "execution_count": 15
        }
      ]
    },
    {
      "cell_type": "code",
      "metadata": {
        "colab": {
          "base_uri": "https://localhost:8080/"
        },
        "id": "8-Okw1xCJ25H",
        "outputId": "3c5e2ea4-4078-4d33-f64c-ccb2af9e2f6b"
      },
      "source": [
        "print(classification_report(y_test, predict_svm))"
      ],
      "execution_count": 16,
      "outputs": [
        {
          "output_type": "stream",
          "name": "stdout",
          "text": [
            "                    precision    recall  f1-score   support\n",
            "\n",
            "         Breakfast       0.92      0.79      0.85        14\n",
            "      Coffee & Tea       1.00      0.94      0.97        32\n",
            "Smoothies & Shakes       0.69      1.00      0.82         9\n",
            "\n",
            "          accuracy                           0.91        55\n",
            "         macro avg       0.87      0.91      0.88        55\n",
            "      weighted avg       0.93      0.91      0.91        55\n",
            "\n"
          ]
        }
      ]
    },
    {
      "cell_type": "code",
      "metadata": {
        "colab": {
          "base_uri": "https://localhost:8080/"
        },
        "id": "eIhLpEWpIAHO",
        "outputId": "c436a50b-23b3-4d12-b21e-78844ddb9ae7"
      },
      "source": [
        "print(confusion_matrix(y_test, predict_svm))"
      ],
      "execution_count": 17,
      "outputs": [
        {
          "output_type": "stream",
          "name": "stdout",
          "text": [
            "[[11  0  3]\n",
            " [ 1 30  1]\n",
            " [ 0  0  9]]\n"
          ]
        }
      ]
    },
    {
      "cell_type": "code",
      "metadata": {
        "colab": {
          "base_uri": "https://localhost:8080/"
        },
        "id": "5M_HJ2y0LwcO",
        "outputId": "0fbc3f5b-4d18-4aec-d914-2264b3402874"
      },
      "source": [
        "print(fbeta_score(y_test, predict_svm, beta=0.5, average=\"micro\"))"
      ],
      "execution_count": 18,
      "outputs": [
        {
          "output_type": "stream",
          "name": "stdout",
          "text": [
            "0.9090909090909091\n"
          ]
        }
      ]
    },
    {
      "cell_type": "code",
      "metadata": {
        "colab": {
          "base_uri": "https://localhost:8080/"
        },
        "id": "9ZQ4xPzrMR9Q",
        "outputId": "3c7ef951-c578-4ec6-b397-86b0e3459ea0"
      },
      "source": [
        "print(cohen_kappa_score(y_test, predict_svm))"
      ],
      "execution_count": 19,
      "outputs": [
        {
          "output_type": "stream",
          "name": "stdout",
          "text": [
            "0.8455056179775281\n"
          ]
        }
      ]
    }
  ]
}